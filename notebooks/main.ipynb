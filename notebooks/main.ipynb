{
 "cells": [
  {
   "cell_type": "markdown",
   "metadata": {},
   "source": [
    "# TEXTLOADER"
   ]
  },
  {
   "cell_type": "code",
   "execution_count": 44,
   "metadata": {},
   "outputs": [],
   "source": [
    "from langchain.document_loaders import TextLoader \n",
    "# TextLoader allows us to load data from a text file"
   ]
  },
  {
   "cell_type": "code",
   "execution_count": 45,
   "metadata": {},
   "outputs": [
    {
     "data": {
      "text/plain": [
       "[Document(page_content=\"The stock of NVIDIA Corp (NASDAQ:NVDA) experienced a daily loss of -3.56% and a 3-month gain of 32.35%. With an Earnings Per Share (EPS) (EPS) of $1.92, the question arises: is the stock significantly overvalued? This article aims to provide a detailed valuation analysis of NVIDIA, offering insights into its financial strength, profitability, growth, and more. We invite you to delve into this comprehensive analysis.\\n\\nCompany Overview\\nWarning! GuruFocus has detected 10 Warning Signs with NVDA. Click here to check it out.\\n\\nNVDA 30-Year Financial Data\\n\\nThe intrinsic value of NVDA\\n\\n\\nNVIDIA Corp (NASDAQ:NVDA) is a leading designer of discrete graphics processing units that enhance the experience on computing platforms. The firm's chips are widely used in various end markets, including PC gaming and data centers. In recent years, NVIDIA has broadened its focus from traditional PC graphics applications such as gaming to more complex and favorable opportunities, including artificial intelligence and autonomous driving, leveraging the high-performance capabilities of its products.\\n\\nCurrently, NVIDIA's stock price stands at $418.01, significantly higher than the GF Value of $310.28, indicating the stock might be overvalued. With a market cap of $1 trillion, the valuation seems steep. The following analysis aims to delve deeper into the company's value.\\n\\nIs NVIDIA's Stock Significantly Overvalued? A Comprehensive Valuation Analysis\\nIs NVIDIA's Stock Significantly Overvalued? A Comprehensive Valuation Analysis\\nUnderstanding the GF Value\\nThe GF Value is a unique measure of the intrinsic value of a stock, calculated based on historical trading multiples, a GuruFocus adjustment factor, and future business performance estimates. If the stock price is significantly above the GF Value Line, it is overvalued, and its future return is likely to be poor. Conversely, if it is significantly below the GF Value Line, its future return will likely be higher.\\n\\nAccording to GuruFocus Value calculation, NVIDIA (NASDAQ:NVDA) appears to be significantly overvalued. The stock's current price of $418.01 per share and the market cap of $1 trillion further strengthen this assumption.\\n\\nGiven that NVIDIA is significantly overvalued, the long-term return of its stock is likely to be much lower than its future business growth.\\n\\nIs NVIDIA's Stock Significantly Overvalued? A Comprehensive Valuation Analysis\\nIs NVIDIA's Stock Significantly Overvalued? A Comprehensive Valuation Analysis\\nLink: These companies may deliver higher future returns at reduced risk.\\n\\nFinancial Strength of NVIDIA\\nExamining the financial strength of a company is crucial before investing in its stock. Companies with poor financial strength pose a higher risk of permanent loss. NVIDIA's cash-to-debt ratio of 1.27 is worse than 58.04% of companies in the Semiconductors industry. However, NVIDIA's overall financial strength is 8 out of 10, indicating a strong financial position.\\n\\nIs NVIDIA's Stock Significantly Overvalued? A Comprehensive Valuation Analysis\\nIs NVIDIA's Stock Significantly Overvalued? A Comprehensive Valuation Analysis\\nProfitability and Growth\\nConsistent profitability over the long term reduces the risk for investors. NVIDIA, with its profitability ranking of 10 out of 10, has been profitable for the past 10 years. The company's operating margin of 17.37% ranks better than 76.5% of companies in the Semiconductors industry.\\n\\nHowever, growth is a crucial factor in a company's valuation. NVIDIA's growth ranks worse than 52.99% of companies in the Semiconductors industry, with its 3-year average revenue growth rate better than 87.88% of companies in the industry.\\n\\nROIC vs WACC\\nComparing a company's return on invested capital (ROIC) to its weighted average cost of capital (WACC) is an effective way to evaluate its profitability. Over the past 12 months, NVIDIA's ROIC was 20.32 while its WACC was 16.74, suggesting that the company is creating value for its shareholders.\\n\\nIs NVIDIA's Stock Significantly Overvalued? A Comprehensive Valuation Analysis\\nIs NVIDIA's Stock Significantly Overvalued? A Comprehensive Valuation Analysis\\nConclusion\\nIn conclusion, NVIDIA (NASDAQ:NVDA) appears to be significantly overvalued. Despite its strong financial condition and profitability, its growth ranks lower than 52.99% of companies in the Semiconductors industry. To learn more about NVIDIA stock, you can check out its 30-Year Financials here.\\n\\nTo find out the high quality companies that may deliver above-average returns, please check out GuruFocus High Quality Low Capex Screener.\\n\\nThis article first appeared on GuruFocus.\", metadata={'source': 'nvda_news.txt'})]"
      ]
     },
     "execution_count": 45,
     "metadata": {},
     "output_type": "execute_result"
    }
   ],
   "source": [
    "loader = TextLoader(\"nvda_news.txt\")\n",
    "data = loader.load()\n",
    "data"
   ]
  },
  {
   "cell_type": "code",
   "execution_count": 46,
   "metadata": {},
   "outputs": [
    {
     "name": "stdout",
     "output_type": "stream",
     "text": [
      "The stock of NVIDIA Corp (NASDAQ:NVDA) experienced a daily loss of -3.56% and a 3-month gain of 32.35%. With an Earnings Per Share (EPS) (EPS) of $1.92, the question arises: is the stock significantly overvalued? This article aims to provide a detailed valuation analysis of NVIDIA, offering insights into its financial strength, profitability, growth, and more. We invite you to delve into this comprehensive analysis.\n",
      "\n",
      "Company Overview\n",
      "Warning! GuruFocus has detected 10 Warning Signs with NVDA. Click here to check it out.\n",
      "\n",
      "NVDA 30-Year Financial Data\n",
      "\n",
      "The intrinsic value of NVDA\n",
      "\n",
      "\n",
      "NVIDIA Corp (NASDAQ:NVDA) is a leading designer of discrete graphics processing units that enhance the experience on computing platforms. The firm's chips are widely used in various end markets, including PC gaming and data centers. In recent years, NVIDIA has broadened its focus from traditional PC graphics applications such as gaming to more complex and favorable opportunities, including artificial intelligence and autonomous driving, leveraging the high-performance capabilities of its products.\n",
      "\n",
      "Currently, NVIDIA's stock price stands at $418.01, significantly higher than the GF Value of $310.28, indicating the stock might be overvalued. With a market cap of $1 trillion, the valuation seems steep. The following analysis aims to delve deeper into the company's value.\n",
      "\n",
      "Is NVIDIA's Stock Significantly Overvalued? A Comprehensive Valuation Analysis\n",
      "Is NVIDIA's Stock Significantly Overvalued? A Comprehensive Valuation Analysis\n",
      "Understanding the GF Value\n",
      "The GF Value is a unique measure of the intrinsic value of a stock, calculated based on historical trading multiples, a GuruFocus adjustment factor, and future business performance estimates. If the stock price is significantly above the GF Value Line, it is overvalued, and its future return is likely to be poor. Conversely, if it is significantly below the GF Value Line, its future return will likely be higher.\n",
      "\n",
      "According to GuruFocus Value calculation, NVIDIA (NASDAQ:NVDA) appears to be significantly overvalued. The stock's current price of $418.01 per share and the market cap of $1 trillion further strengthen this assumption.\n",
      "\n",
      "Given that NVIDIA is significantly overvalued, the long-term return of its stock is likely to be much lower than its future business growth.\n",
      "\n",
      "Is NVIDIA's Stock Significantly Overvalued? A Comprehensive Valuation Analysis\n",
      "Is NVIDIA's Stock Significantly Overvalued? A Comprehensive Valuation Analysis\n",
      "Link: These companies may deliver higher future returns at reduced risk.\n",
      "\n",
      "Financial Strength of NVIDIA\n",
      "Examining the financial strength of a company is crucial before investing in its stock. Companies with poor financial strength pose a higher risk of permanent loss. NVIDIA's cash-to-debt ratio of 1.27 is worse than 58.04% of companies in the Semiconductors industry. However, NVIDIA's overall financial strength is 8 out of 10, indicating a strong financial position.\n",
      "\n",
      "Is NVIDIA's Stock Significantly Overvalued? A Comprehensive Valuation Analysis\n",
      "Is NVIDIA's Stock Significantly Overvalued? A Comprehensive Valuation Analysis\n",
      "Profitability and Growth\n",
      "Consistent profitability over the long term reduces the risk for investors. NVIDIA, with its profitability ranking of 10 out of 10, has been profitable for the past 10 years. The company's operating margin of 17.37% ranks better than 76.5% of companies in the Semiconductors industry.\n",
      "\n",
      "However, growth is a crucial factor in a company's valuation. NVIDIA's growth ranks worse than 52.99% of companies in the Semiconductors industry, with its 3-year average revenue growth rate better than 87.88% of companies in the industry.\n",
      "\n",
      "ROIC vs WACC\n",
      "Comparing a company's return on invested capital (ROIC) to its weighted average cost of capital (WACC) is an effective way to evaluate its profitability. Over the past 12 months, NVIDIA's ROIC was 20.32 while its WACC was 16.74, suggesting that the company is creating value for its shareholders.\n",
      "\n",
      "Is NVIDIA's Stock Significantly Overvalued? A Comprehensive Valuation Analysis\n",
      "Is NVIDIA's Stock Significantly Overvalued? A Comprehensive Valuation Analysis\n",
      "Conclusion\n",
      "In conclusion, NVIDIA (NASDAQ:NVDA) appears to be significantly overvalued. Despite its strong financial condition and profitability, its growth ranks lower than 52.99% of companies in the Semiconductors industry. To learn more about NVIDIA stock, you can check out its 30-Year Financials here.\n",
      "\n",
      "To find out the high quality companies that may deliver above-average returns, please check out GuruFocus High Quality Low Capex Screener.\n",
      "\n",
      "This article first appeared on GuruFocus.\n"
     ]
    }
   ],
   "source": [
    "print(data[0].page_content)"
   ]
  },
  {
   "cell_type": "code",
   "execution_count": 47,
   "metadata": {},
   "outputs": [
    {
     "name": "stdout",
     "output_type": "stream",
     "text": [
      "{'source': 'nvda_news.txt'}\n"
     ]
    }
   ],
   "source": [
    "print(data[0].metadata)"
   ]
  },
  {
   "cell_type": "code",
   "execution_count": 48,
   "metadata": {},
   "outputs": [
    {
     "data": {
      "text/plain": [
       "9"
      ]
     },
     "execution_count": 48,
     "metadata": {},
     "output_type": "execute_result"
    }
   ],
   "source": [
    "from langchain.document_loaders.csv_loader import CSVLoader\n",
    "loader = CSVLoader(\"movies.csv\")\n",
    "data = loader.load()\n",
    "len(data)"
   ]
  },
  {
   "cell_type": "code",
   "execution_count": 49,
   "metadata": {},
   "outputs": [
    {
     "data": {
      "text/plain": [
       "Document(page_content='movie_id: 101\\ntitle: K.G.F: Chapter 2\\nindustry: Bollywood\\nrelease_year: 2022\\nimdb_rating: 8.4\\nstudio: Hombale Films\\nlanguage_id: 3\\nbudget: 1\\nrevenue: 12.5\\nunit: Billions\\ncurrency: INR', metadata={'source': 'movies.csv', 'row': 0})"
      ]
     },
     "execution_count": 49,
     "metadata": {},
     "output_type": "execute_result"
    }
   ],
   "source": [
    "data[0]"
   ]
  },
  {
   "cell_type": "code",
   "execution_count": 50,
   "metadata": {},
   "outputs": [
    {
     "data": {
      "text/plain": [
       "langchain.schema.document.Document"
      ]
     },
     "execution_count": 50,
     "metadata": {},
     "output_type": "execute_result"
    }
   ],
   "source": [
    "type(data[0])"
   ]
  },
  {
   "cell_type": "code",
   "execution_count": 51,
   "metadata": {},
   "outputs": [
    {
     "name": "stdout",
     "output_type": "stream",
     "text": [
      "movie_id: 101\n",
      "title: K.G.F: Chapter 2\n",
      "industry: Bollywood\n",
      "release_year: 2022\n",
      "imdb_rating: 8.4\n",
      "studio: Hombale Films\n",
      "language_id: 3\n",
      "budget: 1\n",
      "revenue: 12.5\n",
      "unit: Billions\n",
      "currency: INR\n"
     ]
    }
   ],
   "source": [
    "print(data[0].page_content)"
   ]
  },
  {
   "cell_type": "code",
   "execution_count": 52,
   "metadata": {},
   "outputs": [
    {
     "data": {
      "text/plain": [
       "{'source': 'movies.csv', 'row': 0}"
      ]
     },
     "execution_count": 52,
     "metadata": {},
     "output_type": "execute_result"
    }
   ],
   "source": [
    "data[0].metadata"
   ]
  },
  {
   "cell_type": "code",
   "execution_count": 53,
   "metadata": {},
   "outputs": [],
   "source": [
    "loader = CSVLoader(\"movies.csv\",source_column=\"title\")\n",
    "data = loader.load()"
   ]
  },
  {
   "cell_type": "code",
   "execution_count": 54,
   "metadata": {},
   "outputs": [
    {
     "data": {
      "text/plain": [
       "{'source': 'K.G.F: Chapter 2', 'row': 0}"
      ]
     },
     "execution_count": 54,
     "metadata": {},
     "output_type": "execute_result"
    }
   ],
   "source": [
    "data[0].metadata"
   ]
  },
  {
   "cell_type": "code",
   "execution_count": 55,
   "metadata": {},
   "outputs": [],
   "source": [
    "from langchain.document_loaders import UnstructuredURLLoader"
   ]
  },
  {
   "cell_type": "code",
   "execution_count": 56,
   "metadata": {},
   "outputs": [],
   "source": [
    "loader = UnstructuredURLLoader(urls=[\n",
    "    \"https://www.moneycontrol.com/news/business/banks/hdfc-bank-re-appoints-sanmoy-chakrabarti-as-chief-risk-officer-11259771.html\",\n",
    "    \"https://www.moneycontrol.com/news/business/markets/market-corrects-post-rbi-ups-inflation-forecast-icrr-bet-on-these-top-10-rate-sensitive-stocks-ideas-11142611.html\"\n",
    "    ]\n",
    ")"
   ]
  },
  {
   "cell_type": "code",
   "execution_count": 57,
   "metadata": {},
   "outputs": [
    {
     "data": {
      "text/plain": [
       "2"
      ]
     },
     "execution_count": 57,
     "metadata": {},
     "output_type": "execute_result"
    }
   ],
   "source": [
    "data = loader.load()\n",
    "len(data)"
   ]
  },
  {
   "cell_type": "code",
   "execution_count": 61,
   "metadata": {},
   "outputs": [
    {
     "data": {
      "text/plain": [
       "Document(page_content='English\\n\\nHindi\\n\\nGujarati\\n\\nSpecials\\n\\nTrending Stocks\\n\\nWaaree Energies INE377N01017, WAAREEENER, 544277\\n\\nEternal INE758T01015, ETERNAL, 543320\\n\\nOla Electric INE0LXG01040, OLAELEC, 544225\\n\\nSuzlon Energy INE040H01021, SUZLON, 532667\\n\\nBSE Limited INE118H01025, BSE, 0\\n\\n\\n\\nQuotes\\n\\nMutual Funds\\n\\nCommodities\\n\\nFutures & Options\\n\\nCurrency\\n\\nNews\\n\\nCryptocurrency\\n\\nForum\\n\\nNotices\\n\\nVideos\\n\\nGlossary\\n\\nAll\\n\\nHello, Login Hello, LoginLog-inor Sign-UpMy AccountMy Profile My PortfolioMy WatchlistMy AlertsMy MessagesPrice AlertsMy Profile My PROMy PortfolioMy WatchlistMy AlertsMy MessagesPrice AlertsLogoutLoans up to ₹50 LAKHSFixed DepositsCredit CardsLifetime Free Credit ScoreChat with UsDownload AppFollow us on:\\n\\nGo Ad-Free\\n\\nMy Alerts\\n\\nPROMarketsHOMEINDIAN INDICESSTOCK ACTIONAll StatsTop GainersTop LosersOnly BuyersOnly Sellers52 Week High52 Week LowPrice ShockersVolume ShockersMost Active StocksGLOBAL MARKETSETFsUS MARKETSSEASONALITY ANALYSISSTOCK SCANNERFundamental ScannerTechnical ScannerECONOMIC INDICATORSECONOMIC CALENDARMARKET ACTIONDashboardF&OFII & DII ActivityCorporate ActionEARNINGSSTOCK DEALSSECTOR ANALYSISPRE MARKETRESEARCHInvestment AdviceTechnicalsCOMMODITYCURRENCYCRYPTOCURRENCYTECHNICAL TRENDSIPOBONDSWEBINARMC LEARNTRADERS CONCLAVEINTERVIEW SERIESOTHERSCryptocurrency NewsToolsNewsLATEST NEWSAssembly ElectionsBUSINESSEconomyCompaniesMutual FundsPersonal FinanceIPOStartupReal EstateBankingNATION & WORLDIndiaCityWorldPoliticsMARKETSStocksTechnical AnalysisEquity ResearchCommoditiesCurrencyGold RateSilver RateAQISPECIALTrendsOpinionExplainersMC BuzzMC FeaturesMC LearnTECHNOLOGYPersonal TechAutoFintechMEDIAPodcastPhotosVideosWeb StoriesCRYPTOCURRENCYOTHERSEntertainmentSportsLifestyleHealth and FitnessEducationJobsScienceAstroReligionTravelEditor’s PicksIPL 2025TechIndiaPortfolioWatchlistCommoditiesMFEXPLOREHomeFind FundTop Ranked FundsPerformance TrackerSIP Performance TrackerETFsNFOTop Performing CategoriesLearnTOOLSReturns CalculatorLumpsum SIP BalancerDelay Cost CalculatorMF FORUMTRACKYour MF InvestmentMF PricesMC 30Personal FinanceEXPLOREHomeInvestingInsuranceBankingFinancial PlanningPropertyToolsVideoAsk ExpertExplainerNPSFIXED DEPOSITFDs @ 9.1% p.a.Fixed Deposit ComparisonFixed Deposit Interest CalculatorCorporate DepositsTAXIncome tax Filing GuideIncome Tax CalculatorLTCG Tax on PropertyLOANS & CREDIT CARDSHomeLoans up to ₹50 LAKHSEMI CalculatorCar Loan CalculatorHome Loan CalculatorEducation Loan CalculatorCredit Card Debit Payoff CalculatorTOOLSProvident Fund CalculatorAssets Allocation PlanningDebt Reduction PlannerDebt Evaluation CalculatorCurrent Expense CalculatorCREDIT CARDSLIFETIME FREE CREDIT SCOREFINANCE TRACKERREAL ESTATE : TRENDS & ANALYTICSMC 30GOLD PRICE TODAYUpcoming Chat | Previous TranscriptsAll Schedule | Previous TranscriptForumEXPLORE FORUMHomepageMembership RulesForum TopicsAsk the ExpertTop BoardersUSER PROFILEFORUM TOPICSLatest ThreadsStocksIndexGoldPersonal FinanceJust PostedMF FORUMPOLLSLatest PollsHistorical PollsMarket SentimentsSUPPORTFAQsCode of ConductFeedbackWrite to usVideosVIDEOSHomepageVideo on DemandOpening & Closing BellThe TenantDrive ReportPODCASTHomepagePodcast on DemandThe Week on Dalal StreetMarket MinutesMC Special PodcastSimply SavePolicy TalksLIVE TVHindiGujaratiInvest Now.investNW .invest-top-sec{flex-direction: column;height:55px;}\\n\\t\\t.invst-menu .mcp_btn_blue_tp {top:103%;right:auto;left:10px;}\\n\\t\\t.invst-menu .subc_list>li:first-child{min-height:auto;}\\n\\t\\t.invst-menu .subc_list>li:first-child:hover{background:#fff;}\\n\\t\\t.investNW .subc_fl, .investNW .subc_fr{width:33%;padding-right:10px;border-right: 1px dotted #CBCBCB;overflow: hidden;height: 200px;}\\n\\t\\t.investNW .subc_fr {padding-left:10px;}\\n\\t\\t.investNW .subc_fr:last-child {border-right: none;}\\n\\t\\t.investNW .subc_list>li>a{padding:7px 0px 7px 10px;height:115px;}\\n\\t\\t.investNW .tit-txt1 {padding-right:10px !important;}\\n\\t\\t.investNW .tit-txt2{padding-right:10px;}\\n\\t\\t.investNW .subc_list.first{border-left:none;}\\n\\t\\t.investNW .rgt-sd{margin-top:5px;}\\n\\n\\t\\t.investNW .sepInvsli a.pdg_btm{ padding-bottom: 46px; }\\n\\t\\t.header_desktop.header1024 .investNW .sepInvsli a.pdg_btm{padding-bottom: 0px;}\\n\\t\\t@media screen and (max-width:1279px) { \\n\\t\\t\\t.investNW .sepInvsli a.pdg_btm{ padding-bottom: 0px; } \\n\\t\\t}INVEST IN CRYPTOassetsPowered By Invest in top cryptocurrencies all over the worldSee the top gainers, losers, invest and get updated what\\'s happening in the crypto marketInvest NowBOTS Summit (FY 24-25)Powered By Bharat option traders summit - 2024India\\'s Largest Regional Retail Option Traders Summit. (BOTS) is a prestigious options trading event organized by Traders Gurukul. Held on the 2nd OR 3rd Sunday of every month, across top cities in IndiaInvest NowOpen Trading AccountPowered By \"Open Trading Account\" formerly know as TradeNowThis functionality will provide users with ease of access navigation and enable create a new revenue line by generating leads of potential customers for brokers in a more integrated manner.Invest Now BusinessMarketsStocksEconomyCompaniesTrendsIPOOpinionEV Special\\n\\n>->MC_ENG_DESKTOP/MC_ENG_NEWS/MC_ENG_BUSINESS_AS/MC_ENG_ROS_NWS_BUS_AS_ATF_728\\n\\nGo PRO Now\\n\\nPRO\\n\\nAdvertisement\\n\\nRemove Ad\\n\\n\\n\\nPRO\\n\\nMarketsHOMEINDIAN INDICESSTOCK ACTIONAll StatsTop GainersTop LosersOnly BuyersOnly Sellers52 Week High52 Week LowPrice ShockersVolume ShockersMost Active StocksGLOBAL MARKETSETFsUS MARKETSSEASONALITY ANALYSISSTOCK SCANNERFundamental ScannerTechnical ScannerECONOMIC INDICATORSECONOMIC CALENDARMARKET ACTIONDashboardF&OFII & DII ActivityCorporate ActionEARNINGSSTOCK DEALSSECTOR ANALYSISPRE MARKETRESEARCHInvestment AdviceTechnicalsCOMMODITYCURRENCYCRYPTOCURRENCYTECHNICAL TRENDSIPOBONDSWEBINARMC LEARNTRADERS CONCLAVEINTERVIEW SERIESOTHERSCryptocurrency NewsTools\\n\\nNewsLATEST NEWSAssembly ElectionsBUSINESSEconomyCompaniesMutual FundsPersonal FinanceIPOStartupReal EstateBankingNATION & WORLDIndiaCityWorldPoliticsMARKETSStocksTechnical AnalysisEquity ResearchCommoditiesCurrencyGold RateSilver RateAQISPECIALTrendsOpinionExplainersMC BuzzMC FeaturesMC LearnTECHNOLOGYPersonal TechAutoFintechMEDIAPodcastPhotosVideosWeb StoriesCRYPTOCURRENCYOTHERSEntertainmentSportsLifestyleHealth and FitnessEducationJobsScienceAstroReligionTravel\\n\\nEditor’s Picks\\n\\nIPL 2025\\n\\nTech\\n\\nIndia\\n\\nPortfolio\\n\\nWatchlist\\n\\nCommodities\\n\\nMFEXPLOREHomeFind FundTop Ranked FundsPerformance TrackerSIP Performance TrackerETFsNFOTop Performing CategoriesLearnTOOLSReturns CalculatorLumpsum SIP BalancerDelay Cost CalculatorMF FORUMTRACKYour MF InvestmentMF PricesMC 30\\n\\nPersonal FinanceEXPLOREHomeInvestingInsuranceBankingFinancial PlanningPropertyToolsVideoAsk ExpertExplainerNPSFIXED DEPOSITFDs @ 9.1% p.a.Fixed Deposit ComparisonFixed Deposit Interest CalculatorCorporate DepositsTAXIncome tax Filing GuideIncome Tax CalculatorLTCG Tax on PropertyLOANS & CREDIT CARDSHomeLoans up to ₹50 LAKHSEMI CalculatorCar Loan CalculatorHome Loan CalculatorEducation Loan CalculatorCredit Card Debit Payoff CalculatorTOOLSProvident Fund CalculatorAssets Allocation PlanningDebt Reduction PlannerDebt Evaluation CalculatorCurrent Expense CalculatorCREDIT CARDSLIFETIME FREE CREDIT SCOREFINANCE TRACKERREAL ESTATE : TRENDS & ANALYTICSMC 30GOLD PRICE TODAYUpcoming Chat | Previous TranscriptsAll Schedule | Previous Transcript\\n\\nForumEXPLORE FORUMHomepageMembership RulesForum TopicsAsk the ExpertTop BoardersUSER PROFILEFORUM TOPICSLatest ThreadsStocksIndexGoldPersonal FinanceJust PostedMF FORUMPOLLSLatest PollsHistorical PollsMarket SentimentsSUPPORTFAQsCode of ConductFeedbackWrite to us\\n\\nVideosVIDEOSHomepageVideo on DemandOpening & Closing BellThe TenantDrive ReportPODCASTHomepagePodcast on DemandThe Week on Dalal StreetMarket MinutesMC Special PodcastSimply SavePolicy TalksLIVE TVHindiGujarati\\n\\nInvest Now.investNW .invest-top-sec{flex-direction: column;height:55px;}\\n\\t\\t.invst-menu .mcp_btn_blue_tp {top:103%;right:auto;left:10px;}\\n\\t\\t.invst-menu .subc_list>li:first-child{min-height:auto;}\\n\\t\\t.invst-menu .subc_list>li:first-child:hover{background:#fff;}\\n\\t\\t.investNW .subc_fl, .investNW .subc_fr{width:33%;padding-right:10px;border-right: 1px dotted #CBCBCB;overflow: hidden;height: 200px;}\\n\\t\\t.investNW .subc_fr {padding-left:10px;}\\n\\t\\t.investNW .subc_fr:last-child {border-right: none;}\\n\\t\\t.investNW .subc_list>li>a{padding:7px 0px 7px 10px;height:115px;}\\n\\t\\t.investNW .tit-txt1 {padding-right:10px !important;}\\n\\t\\t.investNW .tit-txt2{padding-right:10px;}\\n\\t\\t.investNW .subc_list.first{border-left:none;}\\n\\t\\t.investNW .rgt-sd{margin-top:5px;}\\n\\n\\t\\t.investNW .sepInvsli a.pdg_btm{ padding-bottom: 46px; }\\n\\t\\t.header_desktop.header1024 .investNW .sepInvsli a.pdg_btm{padding-bottom: 0px;}\\n\\t\\t@media screen and (max-width:1279px) { \\n\\t\\t\\t.investNW .sepInvsli a.pdg_btm{ padding-bottom: 0px; } \\n\\t\\t}INVEST IN CRYPTOassetsPowered By Invest in top cryptocurrencies all over the worldSee the top gainers, losers, invest and get updated what\\'s happening in the crypto marketInvest NowBOTS Summit (FY 24-25)Powered By Bharat option traders summit - 2024India\\'s Largest Regional Retail Option Traders Summit. (BOTS) is a prestigious options trading event organized by Traders Gurukul. Held on the 2nd OR 3rd Sunday of every month, across top cities in IndiaInvest NowOpen Trading AccountPowered By \"Open Trading Account\" formerly know as TradeNowThis functionality will provide users with ease of access navigation and enable create a new revenue line by generating leads of potential customers for brokers in a more integrated manner.Invest Now\\n\\nBusiness\\n\\nMarkets\\n\\nStocks\\n\\nEconomy\\n\\nCompanies\\n\\nTrends\\n\\nIPO\\n\\nOpinion\\n\\nEV Special\\n\\nHome\\n\\nNews\\n\\nBusiness\\n\\nBanks\\n\\nHDFC Bank re-appoints Sanmoy Chakrabarti as Chief Risk Officer\\n\\nTrending Topics\\n\\nGold Price\\n\\nSensex Live\\n\\nIndian Rupee\\n\\nAther Energy IPO\\n\\nIndusInd Bank News\\n\\nHDFC Bank re-appoints Sanmoy Chakrabarti as Chief Risk Officer\\n\\nChakrabarti has been appointed for a period of five years from December 14, 2023 to December 13, 2028.\\n\\nMoneycontrol News\\n\\nAugust 25, 2023 / 18:54 IST\\n\\n\\n\\n\\n\\n\\n\\n\\n\\n\\n\\n\\n\\nHDFC Bank\\n\\nWatchlist\\n\\nPortfolio\\n\\nMessage\\n\\nSet Alert\\n\\nlive\\n\\nbselive\\n\\nnselive\\n\\nVolume \\n\\nTodays L/H \\n\\nMore\\n\\nHDFC Bank, the country\\'s largest private sector lender, said on August 25 that its board approved the re-appointment of Sanmoy Chakrabarti as the Chief Risk Officer (CRO).\\n\\nAccording to the bank\\'s filing to the stock exchanges, Chakrabarti has been re-appointed for a period of five years.\\n\\nStory continues below Advertisement\\n\\nRemove Ad\\n\\n\"He will be the chief risk officer of the bank for a period of five years from December 14, 2023 to December 13, 2028,\"\\xa0HDFC Bank\\xa0said.\\n\\nChakrabarti, as the CRO of the bank, is responsible for determining the comprehensive risk appetite (covering Credit Risk, Market Risk, Operational Risk, Liquidity Risk, etc.) across various banking segments.\\n\\nAdditionally, he \"oversees the Enterprise Risk Management framework in the Bank and guides the formulations of policies and procedures for Internal Capital Adequacy Assessment Process, Stress Testing methodology, and Group Risk Management. He is also responsible for identifying and managing any emerging risk having material impact on Bank’s activities,\" according to the filing.\\n\\nChakrabarti, who holds M.S. in Quantitative Economics from the Indian Statistical Institute,\\xa0is a member of the Indian Banks’ Association (IBA) Standing Committee on Risk Management and Basel Implementation,\\xa0the filing added.\\n\\nMoneycontrol News\\n\\nfirst published: Aug 25, 2023 06:54 pm\\n\\nBusiness News,\\n\\nBudget 2025 News,\\n\\nSensex, and\\n\\nNifty updates. Obtain\\n\\nPersonal Finance insights, tax queries, and expert opinions on\\n\\nMoneycontrol or download the\\n\\nMoneycontrol App to stay updated!\\n\\nAdvertisement\\n\\nRemove Ad\\n\\nAdvertisement\\n\\nRemove Ad\\n\\nAdvertisement\\n\\nRemove Ad\\n\\nAdvertisement\\n\\nRemove Ad\\n\\nAdvertisement\\n\\nRemove Ad\\n\\nAdvertisement\\n\\nRemove Ad\\n\\nAdvisory Alert:\\n\\ngrievanceofficer@nw18.com or call on 02268882347\\n\\nFollow Us On:\\n\\nStocks:\\n\\nOthers\\n\\nTrending Topics\\n\\nSensex Today\\n\\nRIL Q4 Results 2025\\n\\nJammu Kashmir News Live\\n\\nAther Energy IPO\\n\\nTejasvi Surya\\n\\nGautam Gambhir\\n\\nBajaj Housing Finance Share Price\\n\\nManipur HS Result\\n\\nKTET Result 2025\\n\\nIPL Points Table 2025\\n\\nNews\\n\\nBusiness\\n\\nMarkets\\n\\nStocks\\n\\nIndia News\\n\\nCity News\\n\\nEconomy\\n\\nMutual Funds\\n\\nPersonal Finance\\n\\nIPO News\\n\\nStartups\\n\\nMarkets\\n\\nHome\\n\\nCurrencies\\n\\nCommodities\\n\\nPre-Market\\n\\nIPO\\n\\nGlobal Market\\n\\nBonds\\n\\nPersonal Finance\\n\\nHome\\n\\nLoans up to 50 Lakhs\\n\\nCredit Cards Lifetime Free\\n\\nFinance TrackerNew\\n\\nFixed Deposits\\n\\nFixed Deposit Comparison\\n\\nFixed Income\\n\\nMutual Funds\\n\\nHome MC 30 Top Ranked Funds ETFs Mutual Fund Screener\\n\\nTools\\n\\nIncome Tax Calculator EMI Calculator Retirement Planning Gratuity Calculator\\n\\nCommunity\\n\\nStock Markets\\n\\nNetwork 18 Sites\\n\\nNews18\\n\\nFirstpost\\n\\nCNBC TV18\\n\\nNews18 Hindi\\n\\nCricketnext\\n\\nOverdrive\\n\\nTopper Learning\\n\\nQuick Links\\n\\nAbout Us\\n\\nContact Us\\n\\nAdvisory Alert\\n\\nAdvertise with Us\\n\\nSupport\\n\\nDisclaimer\\n\\nPrivacy Policy\\n\\nCookie Policy\\n\\nTerms & Conditions\\n\\nFinancial Terms (Glossary)\\n\\nSitemap\\n\\nInvestors\\n\\nDownload MC Apps:\\n\\nCopyright © Network18 Media & Investments Limited. All rights reserved. Reproduction of news articles, photos, videos or any other content in whole or in part in any form or medium without express written permission of moneycontrol.com is prohibited.\\n\\nYou got 30 Day’s Trial of\\n\\nGrab it Now\\n\\nAd-Free Experience\\n\\nTop Articles from Financial Times\\n\\nActionable Insights\\n\\nMC Research\\n\\nEconomic Calendar\\n\\n& Many More\\n\\nYou are already a Moneycontrol Pro user.\\n\\nM Snehanjali', metadata={'source': 'https://www.moneycontrol.com/news/business/banks/hdfc-bank-re-appoints-sanmoy-chakrabarti-as-chief-risk-officer-11259771.html'})"
      ]
     },
     "execution_count": 61,
     "metadata": {},
     "output_type": "execute_result"
    }
   ],
   "source": [
    "data[0]"
   ]
  },
  {
   "cell_type": "code",
   "execution_count": 60,
   "metadata": {},
   "outputs": [
    {
     "name": "stdout",
     "output_type": "stream",
     "text": [
      "English\n",
      "\n",
      "Hindi\n",
      "\n",
      "Gujarati\n",
      "\n",
      "Specials\n",
      "\n",
      "Trending Stocks\n",
      "\n",
      "Waaree Energies INE377N01017, WAAREEENER, 544277\n",
      "\n",
      "Eternal INE758T01015, ETERNAL, 543320\n",
      "\n",
      "Ola Electric INE0LXG01040, OLAELEC, 544225\n",
      "\n",
      "Suzlon Energy INE040H01021, SUZLON, 532667\n",
      "\n",
      "BSE Limited INE118H01025, BSE, 0\n",
      "\n",
      "\n",
      "\n",
      "Quotes\n",
      "\n",
      "Mutual Funds\n",
      "\n",
      "Commodities\n",
      "\n",
      "Futures & Options\n",
      "\n",
      "Currency\n",
      "\n",
      "News\n",
      "\n",
      "Cryptocurrency\n",
      "\n",
      "Forum\n",
      "\n",
      "Notices\n",
      "\n",
      "Videos\n",
      "\n",
      "Glossary\n",
      "\n",
      "All\n",
      "\n",
      "Hello, Login Hello, LoginLog-inor Sign-UpMy AccountMy Profile My PortfolioMy WatchlistMy AlertsMy MessagesPrice AlertsMy Profile My PROMy PortfolioMy WatchlistMy AlertsMy MessagesPrice AlertsLogoutLoans up to ₹50 LAKHSFixed DepositsCredit CardsLifetime Free Credit ScoreChat with UsDownload AppFollow us on:\n",
      "\n",
      "Go Ad-Free\n",
      "\n",
      "My Alerts\n",
      "\n",
      "PROMarketsHOMEINDIAN INDICESSTOCK ACTIONAll StatsTop GainersTop LosersOnly BuyersOnly Sellers52 Week High52 Week LowPrice ShockersVolume ShockersMost Active StocksGLOBAL MARKETSETFsUS MARKETSSEASONALITY ANALYSISSTOCK SCANNERFundamental ScannerTechnical ScannerECONOMIC INDICATORSECONOMIC CALENDARMARKET ACTIONDashboardF&OFII & DII ActivityCorporate ActionEARNINGSSTOCK DEALSSECTOR ANALYSISPRE MARKETRESEARCHInvestment AdviceTechnicalsCOMMODITYCURRENCYCRYPTOCURRENCYTECHNICAL TRENDSIPOBONDSWEBINARMC LEARNTRADERS CONCLAVEINTERVIEW SERIESOTHERSCryptocurrency NewsToolsNewsLATEST NEWSAssembly ElectionsBUSINESSEconomyCompaniesMutual FundsPersonal FinanceIPOStartupReal EstateBankingNATION & WORLDIndiaCityWorldPoliticsMARKETSStocksTechnical AnalysisEquity ResearchCommoditiesCurrencyGold RateSilver RateAQISPECIALTrendsOpinionExplainersMC BuzzMC FeaturesMC LearnTECHNOLOGYPersonal TechAutoFintechMEDIAPodcastPhotosVideosWeb StoriesCRYPTOCURRENCYOTHERSEntertainmentSportsLifestyleHealth and FitnessEducationJobsScienceAstroReligionTravelEditor’s PicksIPL 2025TechIndiaPortfolioWatchlistCommoditiesMFEXPLOREHomeFind FundTop Ranked FundsPerformance TrackerSIP Performance TrackerETFsNFOTop Performing CategoriesLearnTOOLSReturns CalculatorLumpsum SIP BalancerDelay Cost CalculatorMF FORUMTRACKYour MF InvestmentMF PricesMC 30Personal FinanceEXPLOREHomeInvestingInsuranceBankingFinancial PlanningPropertyToolsVideoAsk ExpertExplainerNPSFIXED DEPOSITFDs @ 9.1% p.a.Fixed Deposit ComparisonFixed Deposit Interest CalculatorCorporate DepositsTAXIncome tax Filing GuideIncome Tax CalculatorLTCG Tax on PropertyLOANS & CREDIT CARDSHomeLoans up to ₹50 LAKHSEMI CalculatorCar Loan CalculatorHome Loan CalculatorEducation Loan CalculatorCredit Card Debit Payoff CalculatorTOOLSProvident Fund CalculatorAssets Allocation PlanningDebt Reduction PlannerDebt Evaluation CalculatorCurrent Expense CalculatorCREDIT CARDSLIFETIME FREE CREDIT SCOREFINANCE TRACKERREAL ESTATE : TRENDS & ANALYTICSMC 30GOLD PRICE TODAYUpcoming Chat | Previous TranscriptsAll Schedule | Previous TranscriptForumEXPLORE FORUMHomepageMembership RulesForum TopicsAsk the ExpertTop BoardersUSER PROFILEFORUM TOPICSLatest ThreadsStocksIndexGoldPersonal FinanceJust PostedMF FORUMPOLLSLatest PollsHistorical PollsMarket SentimentsSUPPORTFAQsCode of ConductFeedbackWrite to usVideosVIDEOSHomepageVideo on DemandOpening & Closing BellThe TenantDrive ReportPODCASTHomepagePodcast on DemandThe Week on Dalal StreetMarket MinutesMC Special PodcastSimply SavePolicy TalksLIVE TVHindiGujaratiInvest Now.investNW .invest-top-sec{flex-direction: column;height:55px;}\n",
      "\t\t.invst-menu .mcp_btn_blue_tp {top:103%;right:auto;left:10px;}\n",
      "\t\t.invst-menu .subc_list>li:first-child{min-height:auto;}\n",
      "\t\t.invst-menu .subc_list>li:first-child:hover{background:#fff;}\n",
      "\t\t.investNW .subc_fl, .investNW .subc_fr{width:33%;padding-right:10px;border-right: 1px dotted #CBCBCB;overflow: hidden;height: 200px;}\n",
      "\t\t.investNW .subc_fr {padding-left:10px;}\n",
      "\t\t.investNW .subc_fr:last-child {border-right: none;}\n",
      "\t\t.investNW .subc_list>li>a{padding:7px 0px 7px 10px;height:115px;}\n",
      "\t\t.investNW .tit-txt1 {padding-right:10px !important;}\n",
      "\t\t.investNW .tit-txt2{padding-right:10px;}\n",
      "\t\t.investNW .subc_list.first{border-left:none;}\n",
      "\t\t.investNW .rgt-sd{margin-top:5px;}\n",
      "\n",
      "\t\t.investNW .sepInvsli a.pdg_btm{ padding-bottom: 46px; }\n",
      "\t\t.header_desktop.header1024 .investNW .sepInvsli a.pdg_btm{padding-bottom: 0px;}\n",
      "\t\t@media screen and (max-width:1279px) { \n",
      "\t\t\t.investNW .sepInvsli a.pdg_btm{ padding-bottom: 0px; } \n",
      "\t\t}INVEST IN CRYPTOassetsPowered By Invest in top cryptocurrencies all over the worldSee the top gainers, losers, invest and get updated what's happening in the crypto marketInvest NowBOTS Summit (FY 24-25)Powered By Bharat option traders summit - 2024India's Largest Regional Retail Option Traders Summit. (BOTS) is a prestigious options trading event organized by Traders Gurukul. Held on the 2nd OR 3rd Sunday of every month, across top cities in IndiaInvest NowOpen Trading AccountPowered By \"Open Trading Account\" formerly know as TradeNowThis functionality will provide users with ease of access navigation and enable create a new revenue line by generating leads of potential customers for brokers in a more integrated manner.Invest Now BusinessMarketsStocksEconomyCompaniesTrendsIPOOpinionEV Special\n",
      "\n",
      ">->MC_ENG_DESKTOP/MC_ENG_NEWS/MC_ENG_BUSINESS_AS/MC_ENG_ROS_NWS_BUS_AS_ATF_728\n",
      "\n",
      "Go PRO Now\n",
      "\n",
      "PRO\n",
      "\n",
      "Advertisement\n",
      "\n",
      "Remove Ad\n",
      "\n",
      "\n",
      "\n",
      "PRO\n",
      "\n",
      "MarketsHOMEINDIAN INDICESSTOCK ACTIONAll StatsTop GainersTop LosersOnly BuyersOnly Sellers52 Week High52 Week LowPrice ShockersVolume ShockersMost Active StocksGLOBAL MARKETSETFsUS MARKETSSEASONALITY ANALYSISSTOCK SCANNERFundamental ScannerTechnical ScannerECONOMIC INDICATORSECONOMIC CALENDARMARKET ACTIONDashboardF&OFII & DII ActivityCorporate ActionEARNINGSSTOCK DEALSSECTOR ANALYSISPRE MARKETRESEARCHInvestment AdviceTechnicalsCOMMODITYCURRENCYCRYPTOCURRENCYTECHNICAL TRENDSIPOBONDSWEBINARMC LEARNTRADERS CONCLAVEINTERVIEW SERIESOTHERSCryptocurrency NewsTools\n",
      "\n",
      "NewsLATEST NEWSAssembly ElectionsBUSINESSEconomyCompaniesMutual FundsPersonal FinanceIPOStartupReal EstateBankingNATION & WORLDIndiaCityWorldPoliticsMARKETSStocksTechnical AnalysisEquity ResearchCommoditiesCurrencyGold RateSilver RateAQISPECIALTrendsOpinionExplainersMC BuzzMC FeaturesMC LearnTECHNOLOGYPersonal TechAutoFintechMEDIAPodcastPhotosVideosWeb StoriesCRYPTOCURRENCYOTHERSEntertainmentSportsLifestyleHealth and FitnessEducationJobsScienceAstroReligionTravel\n",
      "\n",
      "Editor’s Picks\n",
      "\n",
      "IPL 2025\n",
      "\n",
      "Tech\n",
      "\n",
      "India\n",
      "\n",
      "Portfolio\n",
      "\n",
      "Watchlist\n",
      "\n",
      "Commodities\n",
      "\n",
      "MFEXPLOREHomeFind FundTop Ranked FundsPerformance TrackerSIP Performance TrackerETFsNFOTop Performing CategoriesLearnTOOLSReturns CalculatorLumpsum SIP BalancerDelay Cost CalculatorMF FORUMTRACKYour MF InvestmentMF PricesMC 30\n",
      "\n",
      "Personal FinanceEXPLOREHomeInvestingInsuranceBankingFinancial PlanningPropertyToolsVideoAsk ExpertExplainerNPSFIXED DEPOSITFDs @ 9.1% p.a.Fixed Deposit ComparisonFixed Deposit Interest CalculatorCorporate DepositsTAXIncome tax Filing GuideIncome Tax CalculatorLTCG Tax on PropertyLOANS & CREDIT CARDSHomeLoans up to ₹50 LAKHSEMI CalculatorCar Loan CalculatorHome Loan CalculatorEducation Loan CalculatorCredit Card Debit Payoff CalculatorTOOLSProvident Fund CalculatorAssets Allocation PlanningDebt Reduction PlannerDebt Evaluation CalculatorCurrent Expense CalculatorCREDIT CARDSLIFETIME FREE CREDIT SCOREFINANCE TRACKERREAL ESTATE : TRENDS & ANALYTICSMC 30GOLD PRICE TODAYUpcoming Chat | Previous TranscriptsAll Schedule | Previous Transcript\n",
      "\n",
      "ForumEXPLORE FORUMHomepageMembership RulesForum TopicsAsk the ExpertTop BoardersUSER PROFILEFORUM TOPICSLatest ThreadsStocksIndexGoldPersonal FinanceJust PostedMF FORUMPOLLSLatest PollsHistorical PollsMarket SentimentsSUPPORTFAQsCode of ConductFeedbackWrite to us\n",
      "\n",
      "VideosVIDEOSHomepageVideo on DemandOpening & Closing BellThe TenantDrive ReportPODCASTHomepagePodcast on DemandThe Week on Dalal StreetMarket MinutesMC Special PodcastSimply SavePolicy TalksLIVE TVHindiGujarati\n",
      "\n",
      "Invest Now.investNW .invest-top-sec{flex-direction: column;height:55px;}\n",
      "\t\t.invst-menu .mcp_btn_blue_tp {top:103%;right:auto;left:10px;}\n",
      "\t\t.invst-menu .subc_list>li:first-child{min-height:auto;}\n",
      "\t\t.invst-menu .subc_list>li:first-child:hover{background:#fff;}\n",
      "\t\t.investNW .subc_fl, .investNW .subc_fr{width:33%;padding-right:10px;border-right: 1px dotted #CBCBCB;overflow: hidden;height: 200px;}\n",
      "\t\t.investNW .subc_fr {padding-left:10px;}\n",
      "\t\t.investNW .subc_fr:last-child {border-right: none;}\n",
      "\t\t.investNW .subc_list>li>a{padding:7px 0px 7px 10px;height:115px;}\n",
      "\t\t.investNW .tit-txt1 {padding-right:10px !important;}\n",
      "\t\t.investNW .tit-txt2{padding-right:10px;}\n",
      "\t\t.investNW .subc_list.first{border-left:none;}\n",
      "\t\t.investNW .rgt-sd{margin-top:5px;}\n",
      "\n",
      "\t\t.investNW .sepInvsli a.pdg_btm{ padding-bottom: 46px; }\n",
      "\t\t.header_desktop.header1024 .investNW .sepInvsli a.pdg_btm{padding-bottom: 0px;}\n",
      "\t\t@media screen and (max-width:1279px) { \n",
      "\t\t\t.investNW .sepInvsli a.pdg_btm{ padding-bottom: 0px; } \n",
      "\t\t}INVEST IN CRYPTOassetsPowered By Invest in top cryptocurrencies all over the worldSee the top gainers, losers, invest and get updated what's happening in the crypto marketInvest NowBOTS Summit (FY 24-25)Powered By Bharat option traders summit - 2024India's Largest Regional Retail Option Traders Summit. (BOTS) is a prestigious options trading event organized by Traders Gurukul. Held on the 2nd OR 3rd Sunday of every month, across top cities in IndiaInvest NowOpen Trading AccountPowered By \"Open Trading Account\" formerly know as TradeNowThis functionality will provide users with ease of access navigation and enable create a new revenue line by generating leads of potential customers for brokers in a more integrated manner.Invest Now\n",
      "\n",
      "Business\n",
      "\n",
      "Markets\n",
      "\n",
      "Stocks\n",
      "\n",
      "Economy\n",
      "\n",
      "Companies\n",
      "\n",
      "Trends\n",
      "\n",
      "IPO\n",
      "\n",
      "Opinion\n",
      "\n",
      "EV Special\n",
      "\n",
      "Home\n",
      "\n",
      "News\n",
      "\n",
      "Business\n",
      "\n",
      "Banks\n",
      "\n",
      "HDFC Bank re-appoints Sanmoy Chakrabarti as Chief Risk Officer\n",
      "\n",
      "Trending Topics\n",
      "\n",
      "Gold Price\n",
      "\n",
      "Sensex Live\n",
      "\n",
      "Indian Rupee\n",
      "\n",
      "Ather Energy IPO\n",
      "\n",
      "IndusInd Bank News\n",
      "\n",
      "HDFC Bank re-appoints Sanmoy Chakrabarti as Chief Risk Officer\n",
      "\n",
      "Chakrabarti has been appointed for a period of five years from December 14, 2023 to December 13, 2028.\n",
      "\n",
      "Moneycontrol News\n",
      "\n",
      "August 25, 2023 / 18:54 IST\n",
      "\n",
      "\n",
      "\n",
      "\n",
      "\n",
      "\n",
      "\n",
      "\n",
      "\n",
      "\n",
      "\n",
      "\n",
      "\n",
      "HDFC Bank\n",
      "\n",
      "Watchlist\n",
      "\n",
      "Portfolio\n",
      "\n",
      "Message\n",
      "\n",
      "Set Alert\n",
      "\n",
      "live\n",
      "\n",
      "bselive\n",
      "\n",
      "nselive\n",
      "\n",
      "Volume \n",
      "\n",
      "Todays L/H \n",
      "\n",
      "More\n",
      "\n",
      "HDFC Bank, the country's largest private sector lender, said on August 25 that its board approved the re-appointment of Sanmoy Chakrabarti as the Chief Risk Officer (CRO).\n",
      "\n",
      "According to the bank's filing to the stock exchanges, Chakrabarti has been re-appointed for a period of five years.\n",
      "\n",
      "Story continues below Advertisement\n",
      "\n",
      "Remove Ad\n",
      "\n",
      "\"He will be the chief risk officer of the bank for a period of five years from December 14, 2023 to December 13, 2028,\" HDFC Bank said.\n",
      "\n",
      "Chakrabarti, as the CRO of the bank, is responsible for determining the comprehensive risk appetite (covering Credit Risk, Market Risk, Operational Risk, Liquidity Risk, etc.) across various banking segments.\n",
      "\n",
      "Additionally, he \"oversees the Enterprise Risk Management framework in the Bank and guides the formulations of policies and procedures for Internal Capital Adequacy Assessment Process, Stress Testing methodology, and Group Risk Management. He is also responsible for identifying and managing any emerging risk having material impact on Bank’s activities,\" according to the filing.\n",
      "\n",
      "Chakrabarti, who holds M.S. in Quantitative Economics from the Indian Statistical Institute, is a member of the Indian Banks’ Association (IBA) Standing Committee on Risk Management and Basel Implementation, the filing added.\n",
      "\n",
      "Moneycontrol News\n",
      "\n",
      "first published: Aug 25, 2023 06:54 pm\n",
      "\n",
      "Business News,\n",
      "\n",
      "Budget 2025 News,\n",
      "\n",
      "Sensex, and\n",
      "\n",
      "Nifty updates. Obtain\n",
      "\n",
      "Personal Finance insights, tax queries, and expert opinions on\n",
      "\n",
      "Moneycontrol or download the\n",
      "\n",
      "Moneycontrol App to stay updated!\n",
      "\n",
      "Advertisement\n",
      "\n",
      "Remove Ad\n",
      "\n",
      "Advertisement\n",
      "\n",
      "Remove Ad\n",
      "\n",
      "Advertisement\n",
      "\n",
      "Remove Ad\n",
      "\n",
      "Advertisement\n",
      "\n",
      "Remove Ad\n",
      "\n",
      "Advertisement\n",
      "\n",
      "Remove Ad\n",
      "\n",
      "Advertisement\n",
      "\n",
      "Remove Ad\n",
      "\n",
      "Advisory Alert:\n",
      "\n",
      "grievanceofficer@nw18.com or call on 02268882347\n",
      "\n",
      "Follow Us On:\n",
      "\n",
      "Stocks:\n",
      "\n",
      "Others\n",
      "\n",
      "Trending Topics\n",
      "\n",
      "Sensex Today\n",
      "\n",
      "RIL Q4 Results 2025\n",
      "\n",
      "Jammu Kashmir News Live\n",
      "\n",
      "Ather Energy IPO\n",
      "\n",
      "Tejasvi Surya\n",
      "\n",
      "Gautam Gambhir\n",
      "\n",
      "Bajaj Housing Finance Share Price\n",
      "\n",
      "Manipur HS Result\n",
      "\n",
      "KTET Result 2025\n",
      "\n",
      "IPL Points Table 2025\n",
      "\n",
      "News\n",
      "\n",
      "Business\n",
      "\n",
      "Markets\n",
      "\n",
      "Stocks\n",
      "\n",
      "India News\n",
      "\n",
      "City News\n",
      "\n",
      "Economy\n",
      "\n",
      "Mutual Funds\n",
      "\n",
      "Personal Finance\n",
      "\n",
      "IPO News\n",
      "\n",
      "Startups\n",
      "\n",
      "Markets\n",
      "\n",
      "Home\n",
      "\n",
      "Currencies\n",
      "\n",
      "Commodities\n",
      "\n",
      "Pre-Market\n",
      "\n",
      "IPO\n",
      "\n",
      "Global Market\n",
      "\n",
      "Bonds\n",
      "\n",
      "Personal Finance\n",
      "\n",
      "Home\n",
      "\n",
      "Loans up to 50 Lakhs\n",
      "\n",
      "Credit Cards Lifetime Free\n",
      "\n",
      "Finance TrackerNew\n",
      "\n",
      "Fixed Deposits\n",
      "\n",
      "Fixed Deposit Comparison\n",
      "\n",
      "Fixed Income\n",
      "\n",
      "Mutual Funds\n",
      "\n",
      "Home MC 30 Top Ranked Funds ETFs Mutual Fund Screener\n",
      "\n",
      "Tools\n",
      "\n",
      "Income Tax Calculator EMI Calculator Retirement Planning Gratuity Calculator\n",
      "\n",
      "Community\n",
      "\n",
      "Stock Markets\n",
      "\n",
      "Network 18 Sites\n",
      "\n",
      "News18\n",
      "\n",
      "Firstpost\n",
      "\n",
      "CNBC TV18\n",
      "\n",
      "News18 Hindi\n",
      "\n",
      "Cricketnext\n",
      "\n",
      "Overdrive\n",
      "\n",
      "Topper Learning\n",
      "\n",
      "Quick Links\n",
      "\n",
      "About Us\n",
      "\n",
      "Contact Us\n",
      "\n",
      "Advisory Alert\n",
      "\n",
      "Advertise with Us\n",
      "\n",
      "Support\n",
      "\n",
      "Disclaimer\n",
      "\n",
      "Privacy Policy\n",
      "\n",
      "Cookie Policy\n",
      "\n",
      "Terms & Conditions\n",
      "\n",
      "Financial Terms (Glossary)\n",
      "\n",
      "Sitemap\n",
      "\n",
      "Investors\n",
      "\n",
      "Download MC Apps:\n",
      "\n",
      "Copyright © Network18 Media & Investments Limited. All rights reserved. Reproduction of news articles, photos, videos or any other content in whole or in part in any form or medium without express written permission of moneycontrol.com is prohibited.\n",
      "\n",
      "You got 30 Day’s Trial of\n",
      "\n",
      "Grab it Now\n",
      "\n",
      "Ad-Free Experience\n",
      "\n",
      "Top Articles from Financial Times\n",
      "\n",
      "Actionable Insights\n",
      "\n",
      "MC Research\n",
      "\n",
      "Economic Calendar\n",
      "\n",
      "& Many More\n",
      "\n",
      "You are already a Moneycontrol Pro user.\n",
      "\n",
      "M Snehanjali\n"
     ]
    }
   ],
   "source": [
    "print(data[0].page_content)"
   ]
  },
  {
   "cell_type": "code",
   "execution_count": 62,
   "metadata": {},
   "outputs": [
    {
     "data": {
      "text/plain": [
       "{'source': 'https://www.moneycontrol.com/news/business/banks/hdfc-bank-re-appoints-sanmoy-chakrabarti-as-chief-risk-officer-11259771.html'}"
      ]
     },
     "execution_count": 62,
     "metadata": {},
     "output_type": "execute_result"
    }
   ],
   "source": [
    "data[0].metadata"
   ]
  },
  {
   "cell_type": "markdown",
   "metadata": {},
   "source": [
    "# TEXT SPLITTERS"
   ]
  },
  {
   "cell_type": "markdown",
   "metadata": {},
   "source": [
    "Why do we need text splitters in first place?\n",
    "\n",
    "LLM's have token limits. Hence we need to split the text which can be large into small chunks so that each chunk size is under the token limit. There are various text splitter classes in langchain that allows us to do this."
   ]
  },
  {
   "cell_type": "code",
   "execution_count": 63,
   "metadata": {},
   "outputs": [],
   "source": [
    "# Taking some random text from wikipedia\n",
    "\n",
    "text = \"\"\"Interstellar is a 2014 epic science fiction film co-written, directed, and produced by Christopher Nolan. \n",
    "It stars Matthew McConaughey, Anne Hathaway, Jessica Chastain, Bill Irwin, Ellen Burstyn, Matt Damon, and Michael Caine. \n",
    "Set in a dystopian future where humanity is embroiled in a catastrophic blight and famine, the film follows a group of astronauts who travel through a wormhole near Saturn in search of a new home for humankind.\n",
    "\n",
    "Brothers Christopher and Jonathan Nolan wrote the screenplay, which had its origins in a script Jonathan developed in 2007 and was originally set to be directed by Steven Spielberg. \n",
    "Kip Thorne, a Caltech theoretical physicist and 2017 Nobel laureate in Physics,[4] was an executive producer, acted as a scientific consultant, and wrote a tie-in book, The Science of Interstellar. \n",
    "Cinematographer Hoyte van Hoytema shot it on 35 mm movie film in the Panavision anamorphic format and IMAX 70 mm. Principal photography began in late 2013 and took place in Alberta, Iceland, and Los Angeles. \n",
    "Interstellar uses extensive practical and miniature effects, and the company Double Negative created additional digital effects.\n",
    "\n",
    "Interstellar premiered in Los Angeles on October 26, 2014. In the United States, it was first released on film stock, expanding to venues using digital projectors. The film received generally positive reviews from critics and grossed over $677 million worldwide ($715 million after subsequent re-releases), making it the tenth-highest-grossing film of 2014. \n",
    "It has been praised by astronomers for its scientific accuracy and portrayal of theoretical astrophysics.[5][6][7] Interstellar was nominated for five awards at the 87th Academy Awards, winning Best Visual Effects, and received numerous other accolades.\"\"\""
   ]
  },
  {
   "cell_type": "markdown",
   "metadata": {},
   "source": [
    "Manual approach of splitting the text into chunks"
   ]
  },
  {
   "cell_type": "code",
   "execution_count": 64,
   "metadata": {},
   "outputs": [
    {
     "data": {
      "text/plain": [
       "'Interstellar is a 2014 epic science fiction film co-written, directed, and produced by Christopher N'"
      ]
     },
     "execution_count": 64,
     "metadata": {},
     "output_type": "execute_result"
    }
   ],
   "source": [
    "# Say LLM token limit is 100, in that case we can do simple thing such as this\n",
    "\n",
    "text[0:100]"
   ]
  },
  {
   "cell_type": "code",
   "execution_count": 68,
   "metadata": {},
   "outputs": [
    {
     "name": "stdout",
     "output_type": "stream",
     "text": [
      "['Interstellar', 'is', 'a', '2014', 'epic', 'science', 'fiction', 'film', 'co-written,', 'directed,', 'and', 'produced', 'by', 'Christopher', 'Nolan.', '\\nIt', 'stars', 'Matthew', 'McConaughey,', 'Anne', 'Hathaway,', 'Jessica', 'Chastain,', 'Bill', 'Irwin,', 'Ellen', 'Burstyn,', 'Matt', 'Damon,', 'and', 'Michael', 'Caine.', '\\nSet', 'in', 'a', 'dystopian', 'future', 'where', 'humanity', 'is', 'embroiled', 'in', 'a', 'catastrophic', 'blight', 'and', 'famine,', 'the', 'film', 'follows', 'a', 'group', 'of', 'astronauts', 'who', 'travel', 'through', 'a', 'wormhole', 'near', 'Saturn', 'in', 'search', 'of', 'a', 'new', 'home', 'for', 'humankind.\\n\\nBrothers', 'Christopher', 'and', 'Jonathan', 'Nolan', 'wrote', 'the', 'screenplay,', 'which', 'had', 'its', 'origins', 'in', 'a', 'script', 'Jonathan', 'developed', 'in', '2007', 'and', 'was', 'originally', 'set', 'to', 'be', 'directed', 'by', 'Steven', 'Spielberg.', '\\nKip', 'Thorne,', 'a', 'Caltech', 'theoretical', 'physicist', 'and', '2017', 'Nobel', 'laureate', 'in', 'Physics,[4]', 'was', 'an', 'executive', 'producer,', 'acted', 'as', 'a', 'scientific', 'consultant,', 'and', 'wrote', 'a', 'tie-in', 'book,', 'The', 'Science', 'of', 'Interstellar.', '\\nCinematographer', 'Hoyte', 'van', 'Hoytema', 'shot', 'it', 'on', '35', 'mm', 'movie', 'film', 'in', 'the', 'Panavision', 'anamorphic', 'format', 'and', 'IMAX', '70', 'mm.', 'Principal', 'photography', 'began', 'in', 'late', '2013', 'and', 'took', 'place', 'in', 'Alberta,', 'Iceland,', 'and', 'Los', 'Angeles.', '\\nInterstellar', 'uses', 'extensive', 'practical', 'and', 'miniature', 'effects,', 'and', 'the', 'company', 'Double', 'Negative', 'created', 'additional', 'digital', 'effects.\\n\\nInterstellar', 'premiered', 'in', 'Los', 'Angeles', 'on', 'October', '26,', '2014.', 'In', 'the', 'United', 'States,', 'it', 'was', 'first', 'released', 'on', 'film', 'stock,', 'expanding', 'to', 'venues', 'using', 'digital', 'projectors.', 'The', 'film', 'received', 'generally', 'positive', 'reviews', 'from', 'critics', 'and', 'grossed', 'over', '$677', 'million', 'worldwide', '($715', 'million', 'after', 'subsequent', 're-releases),', 'making', 'it', 'the', 'tenth-highest-grossing', 'film', 'of', '2014.', '\\nIt', 'has', 'been', 'praised', 'by', 'astronomers', 'for', 'its', 'scientific', 'accuracy', 'and', 'portrayal', 'of', 'theoretical', 'astrophysics.[5][6][7]', 'Interstellar', 'was', 'nominated', 'for', 'five', 'awards', 'at', 'the', '87th', 'Academy', 'Awards,', 'winning', 'Best', 'Visual', 'Effects,', 'and', 'received', 'numerous', 'other', 'accolades.']\n",
      "\n",
      "\n"
     ]
    },
    {
     "data": {
      "text/plain": [
       "264"
      ]
     },
     "execution_count": 68,
     "metadata": {},
     "output_type": "execute_result"
    }
   ],
   "source": [
    "# Well but we want complete words and want to do this for entire text, may be we can use Python's split funciton\n",
    "\n",
    "words = text.split(\" \")\n",
    "print(words)\n",
    "print(\"\\n\")\n",
    "len(words)"
   ]
  },
  {
   "cell_type": "code",
   "execution_count": 69,
   "metadata": {},
   "outputs": [],
   "source": [
    "chunks = []\n",
    "\n",
    "s = \"\"\n",
    "for word in words:\n",
    "    s += word + \" \"\n",
    "    if len(s)>200:\n",
    "        chunks.append(s)\n",
    "        s = \"\"\n",
    "        \n",
    "chunks.append(s)"
   ]
  },
  {
   "cell_type": "code",
   "execution_count": 70,
   "metadata": {},
   "outputs": [
    {
     "data": {
      "text/plain": [
       "['Interstellar is a 2014 epic science fiction film co-written, directed, and produced by Christopher Nolan. \\nIt stars Matthew McConaughey, Anne Hathaway, Jessica Chastain, Bill Irwin, Ellen Burstyn, Matt ',\n",
       " 'Damon, and Michael Caine. \\nSet in a dystopian future where humanity is embroiled in a catastrophic blight and famine, the film follows a group of astronauts who travel through a wormhole near Saturn in ']"
      ]
     },
     "execution_count": 70,
     "metadata": {},
     "output_type": "execute_result"
    }
   ],
   "source": [
    "chunks[:2]"
   ]
  },
  {
   "cell_type": "markdown",
   "metadata": {},
   "source": [
    "Splitting data into chunks can be done in native python but it is a tidious process. Also if necessary, you may need to experiment with various delimiters in an iterative manner to ensure that each chunk does not exceed the token length limit of the respective LLM.\n",
    "\n",
    "Langchain provides a better way through text splitter classes."
   ]
  },
  {
   "cell_type": "markdown",
   "metadata": {},
   "source": [
    "# Using Text Splitter Classes from Langchain"
   ]
  },
  {
   "cell_type": "markdown",
   "metadata": {},
   "source": [
    "CharacterTextSplitter"
   ]
  },
  {
   "cell_type": "code",
   "execution_count": null,
   "metadata": {},
   "outputs": [],
   "source": [
    "from langchain.text_splitter import CharacterTextSplitter\n",
    "\n",
    "splitter = CharacterTextSplitter(\n",
    "    separator = \"\\n\", # '.', ' ' etc can also be used as a separator\n",
    "    chunk_size=200,\n",
    "    chunk_overlap=0\n",
    ")"
   ]
  },
  {
   "cell_type": "code",
   "execution_count": 72,
   "metadata": {},
   "outputs": [
    {
     "name": "stderr",
     "output_type": "stream",
     "text": [
      "Created a chunk of size 210, which is longer than the specified 200\n",
      "Created a chunk of size 208, which is longer than the specified 200\n",
      "Created a chunk of size 358, which is longer than the specified 200\n"
     ]
    },
    {
     "data": {
      "text/plain": [
       "9"
      ]
     },
     "execution_count": 72,
     "metadata": {},
     "output_type": "execute_result"
    }
   ],
   "source": [
    "chunks = splitter.split_text(text)\n",
    "len(chunks)"
   ]
  },
  {
   "cell_type": "code",
   "execution_count": 74,
   "metadata": {},
   "outputs": [
    {
     "data": {
      "text/plain": [
       "['Interstellar is a 2014 epic science fiction film co-written, directed, and produced by Christopher Nolan.',\n",
       " 'It stars Matthew McConaughey, Anne Hathaway, Jessica Chastain, Bill Irwin, Ellen Burstyn, Matt Damon, and Michael Caine.',\n",
       " 'Set in a dystopian future where humanity is embroiled in a catastrophic blight and famine, the film follows a group of astronauts who travel through a wormhole near Saturn in search of a new home for humankind.',\n",
       " 'Brothers Christopher and Jonathan Nolan wrote the screenplay, which had its origins in a script Jonathan developed in 2007 and was originally set to be directed by Steven Spielberg.',\n",
       " 'Kip Thorne, a Caltech theoretical physicist and 2017 Nobel laureate in Physics,[4] was an executive producer, acted as a scientific consultant, and wrote a tie-in book, The Science of Interstellar.',\n",
       " 'Cinematographer Hoyte van Hoytema shot it on 35 mm movie film in the Panavision anamorphic format and IMAX 70 mm. Principal photography began in late 2013 and took place in Alberta, Iceland, and Los Angeles.',\n",
       " 'Interstellar uses extensive practical and miniature effects, and the company Double Negative created additional digital effects.',\n",
       " 'Interstellar premiered in Los Angeles on October 26, 2014. In the United States, it was first released on film stock, expanding to venues using digital projectors. The film received generally positive reviews from critics and grossed over $677 million worldwide ($715 million after subsequent re-releases), making it the tenth-highest-grossing film of 2014.',\n",
       " 'It has been praised by astronomers for its scientific accuracy and portrayal of theoretical astrophysics.[5][6][7] Interstellar was nominated for five awards at the 87th Academy Awards, winning Best Visual Effects, and received numerous other accolades.']"
      ]
     },
     "execution_count": 74,
     "metadata": {},
     "output_type": "execute_result"
    }
   ],
   "source": [
    "chunks"
   ]
  },
  {
   "cell_type": "code",
   "execution_count": 73,
   "metadata": {},
   "outputs": [
    {
     "name": "stdout",
     "output_type": "stream",
     "text": [
      "105\n",
      "120\n",
      "210\n",
      "181\n",
      "197\n",
      "207\n",
      "128\n",
      "357\n",
      "253\n"
     ]
    }
   ],
   "source": [
    "for chunk in chunks:\n",
    "    print(len(chunk))"
   ]
  },
  {
   "cell_type": "markdown",
   "metadata": {},
   "source": [
    "As you can see, all though we gave 200 as a chunk size since the split was based on \\n, it ended up creating chunks that are bigger than size 200.\n",
    "\n",
    "Another class from Langchain can be used to recursively split the text based on a list of separators. This class is RecursiveTextSplitter. Let's see how it works"
   ]
  },
  {
   "cell_type": "markdown",
   "metadata": {},
   "source": [
    "RecursiveTextSplitter"
   ]
  },
  {
   "cell_type": "code",
   "execution_count": 76,
   "metadata": {},
   "outputs": [
    {
     "name": "stdout",
     "output_type": "stream",
     "text": [
      "Interstellar is a 2014 epic science fiction film co-written, directed, and produced by Christopher Nolan. \n",
      "It stars Matthew McConaughey, Anne Hathaway, Jessica Chastain, Bill Irwin, Ellen Burstyn, Matt Damon, and Michael Caine. \n",
      "Set in a dystopian future where humanity is embroiled in a catastrophic blight and famine, the film follows a group of astronauts who travel through a wormhole near Saturn in search of a new home for humankind.\n",
      "\n",
      "Brothers Christopher and Jonathan Nolan wrote the screenplay, which had its origins in a script Jonathan developed in 2007 and was originally set to be directed by Steven Spielberg. \n",
      "Kip Thorne, a Caltech theoretical physicist and 2017 Nobel laureate in Physics,[4] was an executive producer, acted as a scientific consultant, and wrote a tie-in book, The Science of Interstellar. \n",
      "Cinematographer Hoyte van Hoytema shot it on 35 mm movie film in the Panavision anamorphic format and IMAX 70 mm. Principal photography began in late 2013 and took place in Alberta, Iceland, and Los Angeles. \n",
      "Interstellar uses extensive practical and miniature effects, and the company Double Negative created additional digital effects.\n",
      "\n",
      "Interstellar premiered in Los Angeles on October 26, 2014. In the United States, it was first released on film stock, expanding to venues using digital projectors. The film received generally positive reviews from critics and grossed over $677 million worldwide ($715 million after subsequent re-releases), making it the tenth-highest-grossing film of 2014. \n",
      "It has been praised by astronomers for its scientific accuracy and portrayal of theoretical astrophysics.[5][6][7] Interstellar was nominated for five awards at the 87th Academy Awards, winning Best Visual Effects, and received numerous other accolades.\n"
     ]
    }
   ],
   "source": [
    "print(text)"
   ]
  },
  {
   "cell_type": "code",
   "execution_count": 81,
   "metadata": {},
   "outputs": [
    {
     "name": "stdout",
     "output_type": "stream",
     "text": [
      "13\n"
     ]
    }
   ],
   "source": [
    "from langchain.text_splitter import RecursiveCharacterTextSplitter\n",
    "\n",
    "r_splitter = RecursiveCharacterTextSplitter(\n",
    "    separators = [\"\\n\\n\", \"\\n\", \" \"],  # List of separators based on requirement (defaults to [\"\\n\\n\", \"\\n\", \" \"])\n",
    "    chunk_size = 200,  # size of each chunk created\n",
    "    chunk_overlap  = 0,  # size of  overlap between chunks in order to maintain the context\n",
    "    length_function = len  # Function to calculate size, currently we are using \"len\" which denotes length of string however you can pass any token counter)\n",
    ")\n",
    "chunks = r_splitter.split_text(text)\n",
    "print(len(chunks))"
   ]
  },
  {
   "cell_type": "markdown",
   "metadata": {},
   "source": [
    "Using recursive splitter we can set multiple separators unlike the character splitter."
   ]
  },
  {
   "cell_type": "markdown",
   "metadata": {},
   "source": [
    "It allows the use of multiple separators. This flexibility lets you split text at various points like newlines, periods, commas, or even specific phrases. By doing so, the RecursiveTextSplitter can accommodate more complex text structures, ensuring that the chunks are created at logical and relevant points in the content."
   ]
  },
  {
   "cell_type": "code",
   "execution_count": 82,
   "metadata": {},
   "outputs": [
    {
     "name": "stdout",
     "output_type": "stream",
     "text": [
      "105\n",
      "120\n",
      "199\n",
      "10\n",
      "181\n",
      "197\n",
      "198\n",
      "8\n",
      "128\n",
      "191\n",
      "165\n",
      "198\n",
      "54\n"
     ]
    }
   ],
   "source": [
    "for chunk in chunks:\n",
    "    print(len(chunk))"
   ]
  },
  {
   "cell_type": "markdown",
   "metadata": {},
   "source": [
    "Let's understand how exactly it formed these chunks"
   ]
  },
  {
   "cell_type": "code",
   "execution_count": 93,
   "metadata": {},
   "outputs": [
    {
     "name": "stdout",
     "output_type": "stream",
     "text": [
      "Interstellar is a 2014 epic science fiction film co-written, directed, and produced by Christopher Nolan. \n",
      "It stars Matthew McConaughey, Anne Hathaway, Jessica Chastain, Bill Irwin, Ellen Burstyn, Matt Damon, and Michael Caine. \n",
      "Set in a dystopian future where humanity is embroiled in a catastrophic blight and famine, the film follows a group of astronauts who travel through a wormhole near Saturn in search of a new home for humankind.\n"
     ]
    }
   ],
   "source": [
    "first_split = text.split(\"\\n\\n\")[0]\n",
    "print(first_split)"
   ]
  },
  {
   "cell_type": "code",
   "execution_count": 85,
   "metadata": {},
   "outputs": [
    {
     "data": {
      "text/plain": [
       "439"
      ]
     },
     "execution_count": 85,
     "metadata": {},
     "output_type": "execute_result"
    }
   ],
   "source": [
    "len(first_split)"
   ]
  },
  {
   "cell_type": "markdown",
   "metadata": {},
   "source": [
    "Recursive text splitter uses a list of separators, i.e. separators = [\"\\n\\n\", \"\\n\", \".\"]\n",
    "\n",
    "So now it will first split using \\n\\n and then if the resulting chunk size is greater than the chunk_size parameter which is 200 in our case, then it will use the next separator which is \\n"
   ]
  },
  {
   "cell_type": "code",
   "execution_count": 88,
   "metadata": {},
   "outputs": [
    {
     "data": {
      "text/plain": [
       "['Interstellar is a 2014 epic science fiction film co-written, directed, and produced by Christopher Nolan. ',\n",
       " 'It stars Matthew McConaughey, Anne Hathaway, Jessica Chastain, Bill Irwin, Ellen Burstyn, Matt Damon, and Michael Caine. ',\n",
       " 'Set in a dystopian future where humanity is embroiled in a catastrophic blight and famine, the film follows a group of astronauts who travel through a wormhole near Saturn in search of a new home for humankind.']"
      ]
     },
     "execution_count": 88,
     "metadata": {},
     "output_type": "execute_result"
    }
   ],
   "source": [
    "second_split = first_split.split(\"\\n\")\n",
    "second_split"
   ]
  },
  {
   "cell_type": "code",
   "execution_count": 89,
   "metadata": {},
   "outputs": [
    {
     "name": "stdout",
     "output_type": "stream",
     "text": [
      "106\n",
      "121\n",
      "210\n"
     ]
    }
   ],
   "source": [
    "for split in second_split:\n",
    "    print(len(split))"
   ]
  },
  {
   "cell_type": "markdown",
   "metadata": {},
   "source": [
    "Third split exceeds chunk size 200. Now it will further try to split that using the third separator which is ' ' (space)"
   ]
  },
  {
   "cell_type": "code",
   "execution_count": 91,
   "metadata": {},
   "outputs": [
    {
     "name": "stdout",
     "output_type": "stream",
     "text": [
      "Set in a dystopian future where humanity is embroiled in a catastrophic blight and famine, the film follows a group of astronauts who travel through a wormhole near Saturn in search of a new home for humankind.\n"
     ]
    }
   ],
   "source": [
    "print(second_split[2])"
   ]
  },
  {
   "cell_type": "markdown",
   "metadata": {},
   "source": [
    "When you split this using space (i.e. second_split[2].split(\" \")), it will separate out each word and then it will merge those chunks such that their size is close to 200"
   ]
  }
 ],
 "metadata": {
  "kernelspec": {
   "display_name": "rockybot-env",
   "language": "python",
   "name": "python3"
  },
  "language_info": {
   "codemirror_mode": {
    "name": "ipython",
    "version": 3
   },
   "file_extension": ".py",
   "mimetype": "text/x-python",
   "name": "python",
   "nbconvert_exporter": "python",
   "pygments_lexer": "ipython3",
   "version": "3.11.4"
  }
 },
 "nbformat": 4,
 "nbformat_minor": 2
}
